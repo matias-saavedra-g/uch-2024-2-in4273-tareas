{
 "cells": [
  {
   "cell_type": "markdown",
   "metadata": {},
   "source": [
    "# Tarea 3\n",
    "\n",
    "- Gestión de Operaciones — IN4273-2\n",
    "\n",
    "- Matías Ignacio Saavera Guerra"
   ]
  },
  {
   "cell_type": "markdown",
   "metadata": {},
   "source": [
    "# Pregunta 1 — Newsvendor\n",
    "\n",
    "Dentro de la industria de la distribución de frutas, las paltas son uno de los productos más demandados, sobre todo las de la marca “VerdeVida”. Esta empresa distribuidora trabaja con productores de paltas que confían en “VerdeVida” para llevar su producto a los clientes finales. El objetivo de la empresa es asegurarse de contar con suficiente material de embalaje especializado para transportar las paltas en cajas premium.\n",
    "\n",
    "Cada caja premium incluye 40 paltas y utiliza un embalaje especializado que ayuda a proteger la fruta durante el transporte. Un aspecto crítico es que las paltas tienen una rápida maduración y no pueden almacenarse por mucho tiempo; si la empresa no tiene suficiente embalaje para enviar las paltas, estas deben desecharse, lo que genera un costo significativo. Como parte del acuerdo comercial con los productores, “VerdeVida” debe pagar el costo por cada palta que no se logre transportar, lo que hace que minimizar los costos sea esencial para el negocio.\n",
    "\n",
    "En este contexto, usted es el encargado de la distribución y debe satisfacer la demanda por transporte de paltas de los productores. Considere que esta demanda sigue una distribución normal con una media de 1.8 millones de paltas y una desviación estándar de 150,000 paltas. Además, usted sabe que el costo por cada palta que no se transporte es de 1.75 USD (según el acuerdo comercial mencionado anteriormente) y el costo del embalaje por caja es de 0.70 USD.\n",
    "\n",
    "El problema que enfrenta “VerdeVida” es tener suficiente embalaje para las paltas que debe distribuir, ya que la empresa paga por cada palta no transportada."
   ]
  },
  {
   "cell_type": "markdown",
   "metadata": {},
   "source": [
    "---\n",
    "\n",
    "## Preliminares\n",
    "\n",
    "Para resolver este problema, se utilizará el modelo de Newsvendor, el cual busca minimizar el costo total esperado, el cual se compone de dos partes: el costo de exceso y el costo de faltante. El costo de exceso se refiere al costo de embalaje de las cajas que no se utilizan, mientras que el costo de faltante se refiere al costo de las paltas que no se logran transportar."
   ]
  },
  {
   "cell_type": "markdown",
   "metadata": {},
   "source": [
    "### Importación de librerías\n",
    "\n",
    "En primer lugar, importamos las librerías necesarias para el desarrollo de la tarea."
   ]
  },
  {
   "cell_type": "code",
   "execution_count": 4,
   "metadata": {},
   "outputs": [],
   "source": [
    "import numpy as np\n",
    "from scipy.stats import norm\n",
    "import math"
   ]
  },
  {
   "cell_type": "markdown",
   "metadata": {},
   "source": [
    "### Definición de constantes\n",
    "\n",
    "Definimos las constantes que se utilizarán en el desarrollo de la tarea."
   ]
  },
  {
   "cell_type": "code",
   "execution_count": 5,
   "metadata": {},
   "outputs": [],
   "source": [
    "# Constants\n",
    "MEAN_DEMAND = 1_800_000  # Mean demand in avocados\n",
    "STD_DEMAND = 150_000     # Standard deviation of demand\n",
    "BOX_CAPACITY = 40        # Avocados per box\n",
    "BOX_COST = 0.70         # Cost per box in USD\n",
    "AVOCADO_COST = 1.75     # Cost per lost avocado in USD\n",
    "FILL_RATE_TARGET = 0.97  # Required fill rate for part d\n",
    "NEW_AVOCADO_COST = 2.50 # New avocado cost for part f"
   ]
  },
  {
   "cell_type": "markdown",
   "metadata": {},
   "source": [
    "### Definición de funciones\n",
    "\n",
    "Definimos las funciones que se utilizarán en el desarrollo de la tarea."
   ]
  },
  {
   "cell_type": "code",
   "execution_count": 6,
   "metadata": {},
   "outputs": [],
   "source": [
    "def calculate_costs():\n",
    "    \"\"\"\n",
    "    Calculate overage and underage costs\n",
    "    Returns:\n",
    "        tuple: (co, cu) where co is overage cost and cu is underage cost\n",
    "    \"\"\"\n",
    "    # Overage cost (co) is the cost of ordering one too many boxes\n",
    "    co = BOX_COST\n",
    "    \n",
    "    # Underage cost (cu) is the cost of not having a box when needed\n",
    "    # One box holds 40 avocados, so missing one box costs 40 * avocado_cost\n",
    "    cu = BOX_CAPACITY * AVOCADO_COST\n",
    "    \n",
    "    return co, cu\n",
    "\n",
    "def optimal_order(mean, std, co, cu):\n",
    "    \"\"\"\n",
    "    Calculate optimal order quantity using newsvendor formula\n",
    "    Args:\n",
    "        mean (float): Mean demand\n",
    "        std (float): Standard deviation of demand\n",
    "        co (float): Overage cost\n",
    "        cu (float): Underage cost\n",
    "    Returns:\n",
    "        float: Optimal order quantity\n",
    "    \"\"\"\n",
    "    z = norm.ppf(cu/(co + cu))\n",
    "    return mean + z * std\n",
    "\n",
    "def expected_cost(Q, mean, std, co, cu):\n",
    "    \"\"\"\n",
    "    Calculate expected total cost for a given order quantity\n",
    "    Args:\n",
    "        Q (float): Order quantity\n",
    "        mean (float): Mean demand\n",
    "        std (float): Standard deviation of demand\n",
    "        co (float): Overage cost\n",
    "        cu (float): Underage cost\n",
    "    Returns:\n",
    "        float: Expected total cost\n",
    "    \"\"\"\n",
    "    z = (Q - mean) / std\n",
    "    L = std * (norm.pdf(z) + z * norm.cdf(z))\n",
    "    return co * (Q - mean) + (co + cu) * (L)\n",
    "\n",
    "def expected_lost_sales(Q, mean, std):\n",
    "    \"\"\"\n",
    "    Calculate expected lost sales (shortages)\n",
    "    Args:\n",
    "        Q (float): Order quantity\n",
    "        mean (float): Mean demand\n",
    "        std (float): Standard deviation of demand\n",
    "    Returns:\n",
    "        float: Expected lost sales\n",
    "    \"\"\"\n",
    "    z = (Q - mean) / std\n",
    "    return std * (norm.pdf(z) - z * (1 - norm.cdf(z)))\n",
    "\n",
    "def order_for_fill_rate(mean, std, fill_rate):\n",
    "    \"\"\"\n",
    "    Calculate order quantity needed to achieve target fill rate\n",
    "    Args:\n",
    "        mean (float): Mean demand\n",
    "        std (float): Standard deviation of demand\n",
    "        fill_rate (float): Target fill rate\n",
    "    Returns:\n",
    "        float: Required order quantity\n",
    "    \"\"\"\n",
    "    z = norm.ppf(fill_rate)\n",
    "    return mean + z * std"
   ]
  },
  {
   "cell_type": "markdown",
   "metadata": {},
   "source": [
    "---\n",
    "\n",
    "## a) (1 pto.) Calcule los costos de overage y underage asociados al embalaje para las paltas. Justifique el cálculo de estos costos."
   ]
  },
  {
   "cell_type": "code",
   "execution_count": 7,
   "metadata": {},
   "outputs": [
    {
     "name": "stdout",
     "output_type": "stream",
     "text": [
      "\n",
      "Section A: Overage and Underage Costs\n",
      "--------------------------------------------------\n",
      "Overage cost (co) = $0.70 per box\n",
      "Underage cost (cu) = $70.00 per box\n",
      "Critical ratio (cu/(co+cu)) = 0.9901\n"
     ]
    }
   ],
   "source": [
    "# Section A: Calculate overage and underage costs\n",
    "print(\"\\nSection A: Overage and Underage Costs\")\n",
    "print(\"-\" * 50)\n",
    "co, cu = calculate_costs()\n",
    "print(f\"Overage cost (co) = ${co:.2f} per box\")\n",
    "print(f\"Underage cost (cu) = ${cu:.2f} per box\")\n",
    "print(f\"Critical ratio (cu/(co+cu)) = {cu/(co+cu):.4f}\")"
   ]
  },
  {
   "cell_type": "markdown",
   "metadata": {},
   "source": [
    "### Contexto y Resultados\n",
    "\n",
    "En la Sección A, se presentan los costos de overage y underage asociados al embalaje de las paltas, así como la razón crítica derivada de estos costos. Los resultados obtenidos son los siguientes:\n",
    "\n",
    "- **Costo de overage (co)**: $0.70 por caja\n",
    "- **Costo de underage (cu)**: $70.00 por caja\n",
    "- **Razón crítica (cu/(co+cu))**: 0.9901\n",
    "\n",
    "### Justificación del Cálculo de los Costos\n",
    "\n",
    "#### Costo de Overage (co)\n",
    "\n",
    "El costo de overage se refiere al costo incurrido por tener un exceso de inventario, es decir, cuando se ordenan más cajas de las necesarias y estas no se venden. Este costo incluye factores como el almacenamiento adicional, el deterioro del producto y la posible obsolescencia. En este caso, el costo de overage es de $0.70 por caja, lo cual refleja los gastos asociados a mantener inventario excedente.\n",
    "\n",
    "#### Costo de Underage (cu)\n",
    "\n",
    "El costo de underage se refiere al costo incurrido por tener un déficit de inventario, es decir, cuando se ordenan menos cajas de las necesarias y se pierde la oportunidad de venta. Este costo incluye la pérdida de ingresos, la insatisfacción del cliente y el posible impacto negativo en la reputación de la empresa. En este caso, el costo de underage es significativamente mayor, $70.00 por caja, lo cual subraya la importancia de evitar la falta de stock y las consecuencias económicas asociadas.\n",
    "\n",
    "#### Razón Crítica\n",
    "\n",
    "La razón crítica se calcula como la proporción del costo de underage sobre la suma de los costos de overage y underage:\n",
    "\n",
    "$$ \\text{Razón crítica} = \\frac{cu}{co + cu} = \\frac{70.00}{0.70 + 70.00} = 0.9901 $$\n",
    "\n",
    "Esta razón crítica de 0.9901 indica que el costo de no tener suficiente inventario es extremadamente alto en comparación con el costo de tener un exceso de inventario. Por lo tanto, la estrategia óptima en este contexto sería priorizar la disponibilidad del producto para minimizar el riesgo de underage, incluso si esto implica incurrir en costos de overage.\n",
    "\n",
    "### Conclusión\n",
    "\n",
    "El análisis de los costos de overage y underage es fundamental para la toma de decisiones en la gestión de inventarios. En el caso del embalaje de las paltas, el alto costo de underage en comparación con el costo de overage sugiere que es preferible mantener un inventario ligeramente superior para evitar la pérdida de ventas y la insatisfacción del cliente. La razón crítica calculada refuerza esta estrategia, destacando la importancia de asegurar la disponibilidad del producto en el mercado."
   ]
  },
  {
   "cell_type": "markdown",
   "metadata": {},
   "source": [
    "---\n",
    "\n",
    "## b) (1 pto.) Calcule el pedido óptimo de embalajes que maximiza las utilidades, considerando la distribución normal de la demanda. Además, calcule el costo esperado, incluyendo tanto el costo del embalaje como el de las paltas desechadas."
   ]
  },
  {
   "cell_type": "code",
   "execution_count": 8,
   "metadata": {},
   "outputs": [
    {
     "name": "stdout",
     "output_type": "stream",
     "text": [
      "\n",
      "Section B: Optimal Order and Expected Cost\n",
      "--------------------------------------------------\n",
      "Optimal order: 53738 boxes (2,149,512 avocados)\n",
      "Expected total cost: $624,767.21\n"
     ]
    }
   ],
   "source": [
    "# Section B: Calculate optimal order and expected cost\n",
    "print(\"\\nSection B: Optimal Order and Expected Cost\")\n",
    "print(\"-\" * 50)\n",
    "# Convert avocado demand to box demand\n",
    "mean_boxes = MEAN_DEMAND / BOX_CAPACITY\n",
    "std_boxes = STD_DEMAND / BOX_CAPACITY\n",
    "\n",
    "optimal_boxes = optimal_order(mean_boxes, std_boxes, co, cu)\n",
    "expected_total_cost = expected_cost(optimal_boxes, mean_boxes, std_boxes, co, cu)\n",
    "\n",
    "print(f\"Optimal order: {optimal_boxes:.0f} boxes ({optimal_boxes*BOX_CAPACITY:,.0f} avocados)\")\n",
    "print(f\"Expected total cost: ${expected_total_cost:,.2f}\")"
   ]
  },
  {
   "cell_type": "markdown",
   "metadata": {},
   "source": [
    "### Contexto y Resultados\n",
    "\n",
    "En la Sección B, se presentan los resultados del cálculo del pedido óptimo de embalajes y el costo total esperado. Los resultados obtenidos son los siguientes:\n",
    "\n",
    "- **Pedido óptimo**: 53,738 cajas (2,149,512 paltas)\n",
    "- **Costo total esperado**: $624,767.21\n",
    "\n",
    "### Cálculo del Pedido Óptimo\n",
    "\n",
    "El pedido óptimo se determina utilizando el modelo Newsvendor, que maximiza las utilidades al equilibrar los costos de overage y underage. En este caso, la demanda de paltas se asume que sigue una distribución normal, lo cual permite calcular el pedido óptimo basado en la razón crítica y la desviación estándar de la demanda.\n",
    "\n",
    "#### Fórmula del Pedido Óptimo\n",
    "\n",
    "El pedido óptimo $ Q^* $ se calcula utilizando la siguiente fórmula:\n",
    "\n",
    "$$ Q^* = \\mu + z \\sigma $$\n",
    "\n",
    "donde:\n",
    "- $ \\mu $ es la media de la demanda.\n",
    "- $ \\sigma $ es la desviación estándar de la demanda.\n",
    "- $ z $ es el valor crítico correspondiente a la razón crítica en la distribución normal estándar.\n",
    "\n",
    "### Cálculo del Costo Esperado\n",
    "\n",
    "El costo total esperado incluye tanto el costo del embalaje como el costo de las paltas desechadas debido a overage. Este costo se calcula considerando los siguientes componentes:\n",
    "\n",
    "1. **Costo del Embalaje**: El costo asociado a la cantidad de cajas pedidas.\n",
    "2. **Costo de las Paltas Desechadas**: El costo de las paltas que no se venden y se desechan debido a un exceso de inventario.\n",
    "\n",
    "#### Fórmula del Costo Esperado\n",
    "\n",
    "El costo total esperado $ C $ se calcula como:\n",
    "\n",
    "$$ C = C_{\\text{embalaje}} + C_{\\text{desecho}} $$\n",
    "\n",
    "donde:\n",
    "- $ C_{\\text{embalaje}} $ es el costo del embalaje.\n",
    "- $ C_{\\text{desecho}} $ es el costo de las paltas desechadas.\n",
    "\n",
    "### Justificación de los Resultados\n",
    "\n",
    "El pedido óptimo de 53,738 cajas se ha calculado para maximizar las utilidades, minimizando los costos asociados tanto al exceso como a la falta de inventario. El costo total esperado de $624,767.21 refleja una combinación de los costos de embalaje y los costos de desecho, asegurando que la empresa mantenga un equilibrio entre la disponibilidad del producto y la minimización de desperdicios.\n",
    "\n",
    "### Conclusión\n",
    "\n",
    "El cálculo del pedido óptimo y del costo total esperado es esencial para la gestión eficiente de inventarios en el modelo Newsvendor. Al considerar la distribución normal de la demanda y los costos asociados, se puede determinar una estrategia óptima que maximice las utilidades y minimice los costos, asegurando la sostenibilidad y rentabilidad de la operación."
   ]
  },
  {
   "cell_type": "markdown",
   "metadata": {},
   "source": [
    "---\n",
    "\n",
    "## c) (1 pto.) Suponga que se decide ordenar 45,000 cajas de embalaje. Calcule el número esperado de paltas que se perderían por falta de embalajes."
   ]
  },
  {
   "cell_type": "code",
   "execution_count": 9,
   "metadata": {},
   "outputs": [
    {
     "name": "stdout",
     "output_type": "stream",
     "text": [
      "\n",
      "Section C: Expected Lost Sales for 45,000 boxes\n",
      "--------------------------------------------------\n",
      "Expected lost sales: 59,841 avocados\n"
     ]
    }
   ],
   "source": [
    "# Section C: Calculate expected lost sales for 45,000 boxes\n",
    "print(\"\\nSection C: Expected Lost Sales for 45,000 boxes\")\n",
    "print(\"-\" * 50)\n",
    "fixed_order = 45000\n",
    "expected_losses = expected_lost_sales(fixed_order, mean_boxes, std_boxes)\n",
    "print(f\"Expected lost sales: {expected_losses*BOX_CAPACITY:,.0f} avocados\")"
   ]
  },
  {
   "cell_type": "markdown",
   "metadata": {},
   "source": [
    "### Contexto y Resultados\n",
    "\n",
    "En la Sección C, se presentan los resultados del cálculo del número esperado de paltas que se perderían debido a la falta de embalajes al ordenar 45,000 cajas. Los resultados obtenidos son los siguientes:\n",
    "\n",
    "- **Ventas perdidas esperadas**: 59,841 paltas\n",
    "\n",
    "### Análisis del Cálculo\n",
    "\n",
    "El cálculo del número esperado de paltas que se perderían por falta de embalajes se basa en la diferencia entre la demanda esperada y la cantidad de embalajes disponibles. En este caso, se asume que la demanda de paltas sigue una distribución normal, lo cual permite estimar las ventas perdidas utilizando técnicas estadísticas.\n",
    "\n",
    "#### Fórmula de Ventas Perdidas Esperadas\n",
    "\n",
    "El número esperado de ventas perdidas $ L $ se puede calcular utilizando la siguiente fórmula:\n",
    "\n",
    "$$ L = \\int_{Q}^{\\infty} (x - Q) f(x) \\, dx $$\n",
    "\n",
    "donde:\n",
    "- $ Q $ es la cantidad de cajas ordenadas (45,000 cajas).\n",
    "- $ f(x) $ es la función de densidad de probabilidad de la demanda de paltas.\n",
    "\n",
    "### Justificación de los Resultados\n",
    "\n",
    "El resultado de 59,841 paltas perdidas se deriva de la diferencia entre la demanda esperada y la cantidad de embalajes disponibles. Al ordenar 45,000 cajas, la empresa no puede satisfacer completamente la demanda, lo que resulta en una pérdida de ventas. Este cálculo es crucial para entender el impacto de no ordenar la cantidad óptima de embalajes y para tomar decisiones informadas sobre la gestión de inventarios.\n",
    "\n",
    "### Factores a Considerar\n",
    "\n",
    "1. **Demanda Estacional**: La demanda de paltas puede variar estacionalmente, lo cual debe ser considerado al calcular las ventas perdidas.\n",
    "2. **Elasticidad de la Demanda**: La sensibilidad de la demanda a la disponibilidad del producto puede afectar el número de ventas perdidas.\n",
    "3. **Costos de Oportunidad**: Las ventas perdidas representan un costo de oportunidad significativo, ya que la empresa pierde ingresos potenciales y puede afectar la satisfacción del cliente.\n",
    "\n",
    "### Conclusión\n",
    "\n",
    "El cálculo del número esperado de paltas que se perderían por falta de embalajes al ordenar 45,000 cajas es esencial para la toma de decisiones en la gestión de inventarios. Los resultados indican que se perderían"
   ]
  },
  {
   "cell_type": "markdown",
   "metadata": {},
   "source": [
    "---\n",
    "\n",
    "## d) (1 pto.) Calcule el pedido que asegura un Fill Rate del 97%. ¿Cuál sería la utilidad esperada en este caso?"
   ]
  },
  {
   "cell_type": "code",
   "execution_count": 10,
   "metadata": {},
   "outputs": [
    {
     "name": "stdout",
     "output_type": "stream",
     "text": [
      "\n",
      "Section D: Order for 97% Fill Rate\n",
      "--------------------------------------------------\n",
      "Order quantity for 97.0% fill rate: 52053 boxes\n",
      "Expected cost with fill rate target: $506,662.75\n"
     ]
    }
   ],
   "source": [
    "# Section D: Calculate order for 97% fill rate\n",
    "print(\"\\nSection D: Order for 97% Fill Rate\")\n",
    "print(\"-\" * 50)\n",
    "fill_rate_order = order_for_fill_rate(mean_boxes, std_boxes, FILL_RATE_TARGET)\n",
    "fill_rate_cost = expected_cost(fill_rate_order, mean_boxes, std_boxes, co, cu)\n",
    "print(f\"Order quantity for {FILL_RATE_TARGET*100}% fill rate: {fill_rate_order:.0f} boxes\")\n",
    "print(f\"Expected cost with fill rate target: ${fill_rate_cost:,.2f}\")"
   ]
  },
  {
   "cell_type": "markdown",
   "metadata": {},
   "source": [
    "### Contexto y Resultados\n",
    "\n",
    "En la Sección D, se presentan los resultados del cálculo del pedido necesario para asegurar un Fill Rate del 97% y el costo esperado asociado a este objetivo. Los resultados obtenidos son los siguientes:\n",
    "\n",
    "- **Cantidad de pedido para un Fill Rate del 97%**: 52,053 cajas\n",
    "- **Costo esperado con el objetivo de Fill Rate**: $506,662.75\n",
    "\n",
    "### Análisis del Cálculo\n",
    "\n",
    "El Fill Rate es una métrica que mide el porcentaje de demanda que se satisface directamente del inventario disponible. Un Fill Rate del 97% indica que el 97% de la demanda se puede cumplir sin incurrir en ventas perdidas. Para calcular la cantidad de pedido que asegura este Fill Rate, se utiliza la distribución de la demanda y se determina el punto en el cual el 97% de la demanda se encuentra cubierta.\n",
    "\n",
    "#### Fórmula del Fill Rate\n",
    "\n",
    "El Fill Rate $ FR $ se puede calcular utilizando la siguiente fórmula:\n",
    "\n",
    "$$ FR = 1 - \\frac{E[L(Q)]}{\\mu} $$\n",
    "\n",
    "donde:\n",
    "- $ E[L(Q)] $ es el número esperado de ventas perdidas.\n",
    "- $ \\mu $ es la media de la demanda.\n",
    "\n",
    "Para asegurar un Fill Rate del 97%, se ajusta la cantidad de pedido $ Q $ de manera que $ FR = 0.97 $.\n",
    "\n",
    "### Cálculo de la Utilidad Esperada\n",
    "\n",
    "La utilidad esperada se calcula como la diferencia entre los ingresos esperados y los costos totales esperados. Los costos totales incluyen tanto el costo del embalaje como el costo de las paltas desechadas debido a overage.\n",
    "\n",
    "#### Fórmula de la Utilidad Esperada\n",
    "\n",
    "La utilidad esperada $ U $ se puede calcular utilizando la siguiente fórmula:\n",
    "\n",
    "$$ U = I - C $$\n",
    "\n",
    "donde:\n",
    "- $ I $ son los ingresos esperados.\n",
    "- $ C $ es el costo total esperado.\n",
    "\n",
    "### Justificación de los Resultados\n",
    "\n",
    "El pedido de 52,053 cajas asegura un Fill Rate del 97%, lo cual minimiza las ventas perdidas y maximiza la satisfacción del cliente. El costo esperado de $506,662.75 refleja los gastos asociados a mantener este nivel de servicio. La utilidad esperada se puede calcular restando este costo de los ingresos esperados, considerando el precio de venta de las paltas y la cantidad vendida.\n",
    "\n",
    "### Conclusión\n",
    "\n",
    "El cálculo del pedido que asegura un Fill Rate del 97% es crucial para la gestión eficiente de inventarios y la maximización de utilidades. Al ordenar 52,053 cajas, la empresa puede satisfacer el 97% de la demanda, minimizando las ventas perdidas y optimizando la satisfacción del cliente. La utilidad esperada en este caso se obtiene restando el costo total esperado de los ingresos esperados, proporcionando una medida clara de la rentabilidad de la operación."
   ]
  },
  {
   "cell_type": "markdown",
   "metadata": {},
   "source": [
    "---\n",
    "\n",
    "## e) (1 pto.) Explique cómo varía el pedido óptimo si la empresa decide priorizar la reducción de las paltas desechadas frente a la minimización de costos de exceso de embalajes. ¿Cómo influiría esto en la utilidad esperada y qué factores deberían considerarse para tomar una decisión bajo incertidumbre?"
   ]
  },
  {
   "cell_type": "markdown",
   "metadata": {},
   "source": [
    "### Contexto y Resultados\n",
    "\n",
    "El análisis de la priorización de la reducción de residuos se fundamenta en los resultados obtenidos en los bloques anteriores, los cuales indican una tendencia significativa hacia la acumulación de inventario excedente al priorizar la reducción de residuos. Este fenómeno se debe a que la cantidad de pedido óptima se desplaza hacia la cola derecha de la distribución de la demanda, incrementando así la probabilidad de excedentes.\n",
    "\n",
    "### Factores a considerar:\n",
    "\n",
    "1. **Impacto ambiental de los residuos**: La reducción de residuos tiene un efecto positivo en la disminución de la huella ecológica de la empresa. La minimización de desechos contribuye a la sostenibilidad ambiental y al cumplimiento de normativas ecológicas.\n",
    "\n",
    "2. **Costos de reputación**: La gestión eficiente de residuos mejora la imagen corporativa y fortalece la reputación de la empresa ante consumidores y stakeholders. Una empresa comprometida con la sostenibilidad puede obtener ventajas competitivas en el mercado.\n",
    "\n",
    "3. **Relación a largo plazo con los proveedores**: La priorización de la reducción de residuos puede requerir ajustes en las relaciones con los proveedores, incluyendo negociaciones para la entrega de materiales en cantidades más precisas y la implementación de prácticas de producción más sostenibles.\n",
    "\n",
    "4. **Capacidad y costos de almacenamiento**: Un aumento en la cantidad de pedido puede llevar a mayores requerimientos de espacio de almacenamiento, lo cual implica costos adicionales. Es crucial evaluar la capacidad de almacenamiento disponible y los costos asociados para evitar ineficiencias logísticas.\n",
    "\n",
    "5. **Requisitos de capital de trabajo**: La gestión de inventarios más grandes requiere una mayor inversión en capital de trabajo. Es necesario analizar la disponibilidad de recursos financieros y su impacto en la liquidez de la empresa.\n",
    "\n",
    "### Conclusión\n",
    "\n",
    "En conclusión, la priorización de la reducción de residuos presenta tanto ventajas como desafíos. Es esencial realizar un análisis exhaustivo de los factores mencionados para tomar decisiones informadas que equilibren la sostenibilidad ambiental con la eficiencia operativa y financiera."
   ]
  },
  {
   "cell_type": "markdown",
   "metadata": {},
   "source": [
    "---\n",
    "\n",
    "## f) (1 pto.) Si el costo por palta aumenta a 2.50 USD debido a una menor producción en la temporada, ¿cómo afectaría este cambio la cantidad óptima de embalajes a pedir y los costos asociados? Reflexione sobre cómo los cambios en los costos de la materia prima pueden influir en la toma de decisiones en el modelo Newsvendor."
   ]
  },
  {
   "cell_type": "code",
   "execution_count": 12,
   "metadata": {},
   "outputs": [
    {
     "name": "stdout",
     "output_type": "stream",
     "text": [
      "\n",
      "Section F: Analysis with New Avocado Cost\n",
      "--------------------------------------------------\n",
      "New optimal order: 54224 boxes (2,168,965 avocados)\n",
      "New expected total cost: $936,183.52\n",
      "Change in optimal order: 486 boxes\n",
      "Percentage increase in order: 0.9%\n"
     ]
    }
   ],
   "source": [
    "# Section F: Recalculate with new avocado cost\n",
    "print(\"\\nSection F: Analysis with New Avocado Cost\")\n",
    "print(\"-\" * 50)\n",
    "# Recalculate costs with new avocado cost\n",
    "new_co = co\n",
    "new_cu = BOX_CAPACITY * NEW_AVOCADO_COST\n",
    "\n",
    "new_optimal_boxes = optimal_order(mean_boxes, std_boxes, new_co, new_cu)\n",
    "new_expected_cost = expected_cost(new_optimal_boxes, mean_boxes, std_boxes, new_co, new_cu)\n",
    "\n",
    "print(f\"New optimal order: {new_optimal_boxes:.0f} boxes ({new_optimal_boxes*BOX_CAPACITY:,.0f} avocados)\")\n",
    "print(f\"New expected total cost: ${new_expected_cost:,.2f}\")\n",
    "print(f\"Change in optimal order: {new_optimal_boxes - optimal_boxes:.0f} boxes\")\n",
    "print(f\"Percentage increase in order: {((new_optimal_boxes/optimal_boxes) - 1)*100:.1f}%\")"
   ]
  },
  {
   "cell_type": "markdown",
   "metadata": {},
   "source": [
    "### Reflexión sobre la influencia de los cambios en los costos de la materia prima en la toma de decisiones en el modelo Newsvendor\n",
    "\n",
    "La variabilidad en los costos de la materia prima es un factor crítico que puede afectar significativamente la toma de decisiones en el modelo Newsvendor. Este modelo, utilizado para determinar la cantidad óptima de pedido que minimiza los costos totales, es altamente sensible a las fluctuaciones en los precios de los insumos.\n",
    "\n",
    "#### Contexto y Resultados\n",
    "\n",
    "En el análisis reciente, se observó un cambio en el costo de los aguacates, lo cual impactó directamente en la cantidad óptima de pedido y en los costos esperados totales. Los resultados obtenidos fueron los siguientes:\n",
    "\n",
    "- **Nuevo pedido óptimo**: 54,224 cajas (2,168,965 aguacates)\n",
    "- **Nuevo costo total esperado**: $936,183.52\n",
    "- **Cambio en el pedido óptimo**: 486 cajas\n",
    "- **Incremento porcentual en el pedido**: 0.9%\n",
    "\n",
    "#### Análisis de los Resultados\n",
    "\n",
    "El incremento en el costo de la materia prima llevó a un ajuste en la cantidad óptima de pedido, aumentando en 486 cajas, lo que representa un incremento del 0.9%. Este ajuste es una respuesta directa a la necesidad de equilibrar los costos de adquisición con los costos de mantener inventario y los costos de oportunidad asociados con la falta de stock.\n",
    "\n",
    "#### Factores a Considerar\n",
    "\n",
    "1. **Elasticidad de la demanda**: La sensibilidad de la demanda a los cambios en el precio de la materia prima puede influir en la cantidad óptima de pedido. En mercados donde la demanda es altamente elástica, un aumento en los costos de la materia prima puede llevar a una reducción significativa en la cantidad demandada.\n",
    "\n",
    "2. **Costos de almacenamiento**: Un aumento en la cantidad de pedido puede incrementar los costos de almacenamiento. Es crucial evaluar la capacidad de almacenamiento disponible y los costos adicionales que esto pueda implicar.\n",
    "\n",
    "3. **Riesgo de obsolescencia**: En productos perecederos como los aguacates, un aumento en la cantidad de pedido puede incrementar el riesgo de obsolescencia y desperdicio, lo cual debe ser considerado en la toma de decisiones.\n",
    "\n",
    "4. **Capital de trabajo**: La necesidad de financiar un mayor inventario puede requerir una mayor inversión en capital de trabajo, afectando la liquidez de la empresa.\n",
    "\n",
    "5. **Relaciones con proveedores**: Cambios en los costos de la materia prima pueden requerir renegociaciones con los proveedores para asegurar precios más favorables o condiciones de pago más flexibles.\n",
    "\n",
    "#### Conclusión\n",
    "\n",
    "Los cambios en los costos de la materia prima tienen un impacto significativo en la toma de decisiones dentro del modelo Newsvendor. Es esencial realizar un análisis detallado de los factores mencionados para ajustar la cantidad óptima de pedido de manera que se minimicen los costos totales y se maximice la eficiencia operativa. La capacidad de adaptarse rápidamente a las fluctuaciones en los precios de los insumos es crucial para mantener la competitividad y la rentabilidad en mercados dinámicos."
   ]
  }
 ],
 "metadata": {
  "kernelspec": {
   "display_name": "Python 3",
   "language": "python",
   "name": "python3"
  },
  "language_info": {
   "codemirror_mode": {
    "name": "ipython",
    "version": 3
   },
   "file_extension": ".py",
   "mimetype": "text/x-python",
   "name": "python",
   "nbconvert_exporter": "python",
   "pygments_lexer": "ipython3",
   "version": "3.11.9"
  }
 },
 "nbformat": 4,
 "nbformat_minor": 2
}
