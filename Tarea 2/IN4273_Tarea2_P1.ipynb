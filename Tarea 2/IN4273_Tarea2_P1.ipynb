{
 "cells": [
  {
   "cell_type": "markdown",
   "metadata": {},
   "source": [
    "# Tarea 2 - Pronóstico de Demanda\n",
    "\n",
    "## Información Administrativa\n",
    "\n",
    "- Curso: IN4273 - Gestión de Operaciones\n",
    "- Facultad: Ciencias Físicas y Matemáticas, Universidad de Chile\n",
    "- Departamento: Ingeniería Industrial\n",
    "- Fecha de entrega: Martes 17 de septiembre, 23:59\n",
    "- Integrantes:\n",
    "    - Cristian Jara M.\n",
    "    - Matías Ignacio Saavedra Guerra\n",
    "    - Maximiliano Farren\n",
    "\n",
    "## Resumen de la Tarea\n",
    "\n",
    "Esta tarea se enfoca en la aplicación de técnicas de pronóstico de demanda y planificación de producción en el contexto de la gestión de operaciones. Se divide en dos preguntas principales.\n",
    "\n",
    "1. Pregunta 1: Esta sección aborda el pronóstico de demanda para TechGadgets Inc., una empresa de dispositivos electrónicos.\n",
    "2. Pregunta 2: Esta parte se centra en la implementación computacional de modelos de pronóstico para una empresa de venta de café. "
   ]
  },
  {
   "cell_type": "markdown",
   "metadata": {},
   "source": [
    "# Pregunta 1\n",
    "\n",
    "1. Aplicar el método de promedio móvil para pronosticar las ventas de septiembre 2024.\n",
    "2. Utilizar el alisamiento exponencial simple para predecir las ventas de octubre 2024.\n",
    "3. Implementar el alisamiento exponencial con tendencia para noviembre y diciembre 2024.\n",
    "4. Analizar críticamente la estrategia de pronóstico propuesta por la empresa.\n",
    "5. Planificar la producción y contratación de personal basándose en los pronósticos realizados."
   ]
  },
  {
   "cell_type": "markdown",
   "metadata": {},
   "source": [
    "# Resolución\n",
    "\n",
    "TechGadgets Inc. es una empresa dedicada a la fabricación y distribución de dispositivos electrónicos, incluyendo teléfonos inteligentes y tabletas. La demanda de estos productos posee un aumento fuerte durante los meses previos a las festividades de fin de año. Para la Temporada Alta de 2024, que incluye los meses de septiembre a diciembre, la empresa debe planificar cuidadosamente la producción y el personal necesario para satisfacer esta demanda, evitando al mismo tiempo costos excesivos asociados al inventario o a la contratación.\n",
    "\n",
    "En la siguiente tabla, se presentan los datos históricos de ventas de teléfonos inteligentes y tabletas, en forma agregada y en miles de unidades, durante los últimos 4 años para la temporada alta:"
   ]
  },
  {
   "cell_type": "code",
   "execution_count": 1,
   "metadata": {},
   "outputs": [],
   "source": [
    "# Se importan las librerías necesarias para la resolución, si alguna no está instalada, se puede instalar con pip install <librería>.\n",
    "\n",
    "import numpy as np\n",
    "import matplotlib.pyplot as plt\n",
    "from scipy.integrate import odeint\n",
    "import pandas as pd"
   ]
  },
  {
   "cell_type": "code",
   "execution_count": 3,
   "metadata": {},
   "outputs": [
    {
     "name": "stdout",
     "output_type": "stream",
     "text": [
      "    Temporada         Mes  Demanda\n",
      "0        2020  Septiembre       65\n",
      "1        2020     Octubre       95\n",
      "2        2020   Noviembre      150\n",
      "3        2020   Diciembre      230\n",
      "4        2021  Septiembre       60\n",
      "5        2021     Octubre       90\n",
      "6        2021   Noviembre      140\n",
      "7        2021   Diciembre      220\n",
      "8        2022  Septiembre       55\n",
      "9        2022     Octubre       85\n",
      "10       2022   Noviembre      130\n",
      "11       2022   Diciembre      210\n",
      "12       2023  Septiembre       50\n",
      "13       2023     Octubre       80\n",
      "14       2023   Noviembre      120\n",
      "15       2023   Diciembre      200\n"
     ]
    }
   ],
   "source": [
    "# Se definen las constantes del problema.\n",
    "data = [\n",
    "    {\"Temporada\": 2020, \"Mes\": \"Septiembre\", \"Demanda\": 65},\n",
    "    {\"Temporada\": 2020, \"Mes\": \"Octubre\", \"Demanda\": 95},\n",
    "    {\"Temporada\": 2020, \"Mes\": \"Noviembre\", \"Demanda\": 150},\n",
    "    {\"Temporada\": 2020, \"Mes\": \"Diciembre\", \"Demanda\": 230},\n",
    "    {\"Temporada\": 2021, \"Mes\": \"Septiembre\", \"Demanda\": 60},\n",
    "    {\"Temporada\": 2021, \"Mes\": \"Octubre\", \"Demanda\": 90},\n",
    "    {\"Temporada\": 2021, \"Mes\": \"Noviembre\", \"Demanda\": 140},\n",
    "    {\"Temporada\": 2021, \"Mes\": \"Diciembre\", \"Demanda\": 220},\n",
    "    {\"Temporada\": 2022, \"Mes\": \"Septiembre\", \"Demanda\": 55},\n",
    "    {\"Temporada\": 2022, \"Mes\": \"Octubre\", \"Demanda\": 85},\n",
    "    {\"Temporada\": 2022, \"Mes\": \"Noviembre\", \"Demanda\": 130},\n",
    "    {\"Temporada\": 2022, \"Mes\": \"Diciembre\", \"Demanda\": 210},\n",
    "    {\"Temporada\": 2023, \"Mes\": \"Septiembre\", \"Demanda\": 50},\n",
    "    {\"Temporada\": 2023, \"Mes\": \"Octubre\", \"Demanda\": 80},\n",
    "    {\"Temporada\": 2023, \"Mes\": \"Noviembre\", \"Demanda\": 120},\n",
    "    {\"Temporada\": 2023, \"Mes\": \"Diciembre\", \"Demanda\": 200}\n",
    "]\n",
    "\n",
    "# Se crea un DataFrame con los datos de la demanda.\n",
    "df = pd.DataFrame(data)\n",
    "print(df)"
   ]
  }
 ],
 "metadata": {
  "kernelspec": {
   "display_name": "Python 3",
   "language": "python",
   "name": "python3"
  },
  "language_info": {
   "codemirror_mode": {
    "name": "ipython",
    "version": 3
   },
   "file_extension": ".py",
   "mimetype": "text/x-python",
   "name": "python",
   "nbconvert_exporter": "python",
   "pygments_lexer": "ipython3",
   "version": "3.8.10"
  }
 },
 "nbformat": 4,
 "nbformat_minor": 2
}
